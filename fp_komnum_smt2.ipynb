{
 "cells": [
  {
   "cell_type": "code",
   "execution_count": 1,
   "id": "e58a1246",
   "metadata": {
    "scrolled": false
   },
   "outputs": [],
   "source": [
    "# impor library pandas untuk fungsi dataframe dan library math untuk fungsi faktorial\n",
    "import pandas as pd\n",
    "import math"
   ]
  },
  {
   "cell_type": "code",
   "execution_count": 2,
   "id": "65d683f4",
   "metadata": {
    "scrolled": true
   },
   "outputs": [
    {
     "data": {
      "text/html": [
       "<div>\n",
       "<style scoped>\n",
       "    .dataframe tbody tr th:only-of-type {\n",
       "        vertical-align: middle;\n",
       "    }\n",
       "\n",
       "    .dataframe tbody tr th {\n",
       "        vertical-align: top;\n",
       "    }\n",
       "\n",
       "    .dataframe thead th {\n",
       "        text-align: right;\n",
       "    }\n",
       "</style>\n",
       "<table border=\"1\" class=\"dataframe\">\n",
       "  <thead>\n",
       "    <tr style=\"text-align: right;\">\n",
       "      <th></th>\n",
       "      <th>x</th>\n",
       "      <th>y</th>\n",
       "    </tr>\n",
       "  </thead>\n",
       "  <tbody>\n",
       "    <tr>\n",
       "      <th>0</th>\n",
       "      <td>3.0</td>\n",
       "      <td>-741.0</td>\n",
       "    </tr>\n",
       "    <tr>\n",
       "      <th>1</th>\n",
       "      <td>6.0</td>\n",
       "      <td>-186.0</td>\n",
       "    </tr>\n",
       "    <tr>\n",
       "      <th>2</th>\n",
       "      <td>9.0</td>\n",
       "      <td>32121.0</td>\n",
       "    </tr>\n",
       "    <tr>\n",
       "      <th>3</th>\n",
       "      <td>12.0</td>\n",
       "      <td>184956.0</td>\n",
       "    </tr>\n",
       "    <tr>\n",
       "      <th>4</th>\n",
       "      <td>15.0</td>\n",
       "      <td>634575.0</td>\n",
       "    </tr>\n",
       "    <tr>\n",
       "      <th>5</th>\n",
       "      <td>18.0</td>\n",
       "      <td>1673874.0</td>\n",
       "    </tr>\n",
       "    <tr>\n",
       "      <th>6</th>\n",
       "      <td>21.0</td>\n",
       "      <td>3741549.0</td>\n",
       "    </tr>\n",
       "    <tr>\n",
       "      <th>7</th>\n",
       "      <td>24.0</td>\n",
       "      <td>7451256.0</td>\n",
       "    </tr>\n",
       "    <tr>\n",
       "      <th>8</th>\n",
       "      <td>27.0</td>\n",
       "      <td>13620771.0</td>\n",
       "    </tr>\n",
       "  </tbody>\n",
       "</table>\n",
       "</div>"
      ],
      "text/plain": [
       "      x           y\n",
       "0   3.0      -741.0\n",
       "1   6.0      -186.0\n",
       "2   9.0     32121.0\n",
       "3  12.0    184956.0\n",
       "4  15.0    634575.0\n",
       "5  18.0   1673874.0\n",
       "6  21.0   3741549.0\n",
       "7  24.0   7451256.0\n",
       "8  27.0  13620771.0"
      ]
     },
     "execution_count": 2,
     "metadata": {},
     "output_type": "execute_result"
    }
   ],
   "source": [
    "# buat dataframe berdasarkan soal\n",
    "df = pd.DataFrame({\n",
    "    'x': [3., 6., 9., 12., 15., 18., 21., 24., 27.],\n",
    "    'y': [-741., -186., 32121., 184956., 634575., 1673874., 3741549., 7451256., 13620771.]\n",
    "})\n",
    "\n",
    "# cetak dataframe df\n",
    "df"
   ]
  },
  {
   "cell_type": "code",
   "execution_count": 3,
   "id": "4dc9f281",
   "metadata": {
    "scrolled": true
   },
   "outputs": [
    {
     "data": {
      "text/html": [
       "<div>\n",
       "<style scoped>\n",
       "    .dataframe tbody tr th:only-of-type {\n",
       "        vertical-align: middle;\n",
       "    }\n",
       "\n",
       "    .dataframe tbody tr th {\n",
       "        vertical-align: top;\n",
       "    }\n",
       "\n",
       "    .dataframe thead th {\n",
       "        text-align: right;\n",
       "    }\n",
       "</style>\n",
       "<table border=\"1\" class=\"dataframe\">\n",
       "  <thead>\n",
       "    <tr style=\"text-align: right;\">\n",
       "      <th></th>\n",
       "      <th>Δfx</th>\n",
       "    </tr>\n",
       "  </thead>\n",
       "  <tbody>\n",
       "    <tr>\n",
       "      <th>0</th>\n",
       "      <td>555.0</td>\n",
       "    </tr>\n",
       "    <tr>\n",
       "      <th>1</th>\n",
       "      <td>32307.0</td>\n",
       "    </tr>\n",
       "    <tr>\n",
       "      <th>2</th>\n",
       "      <td>152835.0</td>\n",
       "    </tr>\n",
       "    <tr>\n",
       "      <th>3</th>\n",
       "      <td>449619.0</td>\n",
       "    </tr>\n",
       "    <tr>\n",
       "      <th>4</th>\n",
       "      <td>1039299.0</td>\n",
       "    </tr>\n",
       "    <tr>\n",
       "      <th>5</th>\n",
       "      <td>2067675.0</td>\n",
       "    </tr>\n",
       "    <tr>\n",
       "      <th>6</th>\n",
       "      <td>3709707.0</td>\n",
       "    </tr>\n",
       "    <tr>\n",
       "      <th>7</th>\n",
       "      <td>6169515.0</td>\n",
       "    </tr>\n",
       "  </tbody>\n",
       "</table>\n",
       "</div>"
      ],
      "text/plain": [
       "         Δfx\n",
       "0      555.0\n",
       "1    32307.0\n",
       "2   152835.0\n",
       "3   449619.0\n",
       "4  1039299.0\n",
       "5  2067675.0\n",
       "6  3709707.0\n",
       "7  6169515.0"
      ]
     },
     "execution_count": 3,
     "metadata": {},
     "output_type": "execute_result"
    }
   ],
   "source": [
    "# buat kolom Δfx didapat dari selisih kolom y\n",
    "df1 = (df['y'].shift(-1) - df['y'] ) \n",
    "\n",
    "# hapus NaN di baris akhir\n",
    "df1 = df1.dropna() \n",
    "\n",
    "# beri nama kolom dataframe jadi Δfx\n",
    "df1 = df1.to_frame('Δfx')\n",
    "\n",
    "# cetak dataframe df1\n",
    "df1"
   ]
  },
  {
   "cell_type": "code",
   "execution_count": 4,
   "id": "acb81a97",
   "metadata": {
    "scrolled": true
   },
   "outputs": [
    {
     "data": {
      "text/html": [
       "<div>\n",
       "<style scoped>\n",
       "    .dataframe tbody tr th:only-of-type {\n",
       "        vertical-align: middle;\n",
       "    }\n",
       "\n",
       "    .dataframe tbody tr th {\n",
       "        vertical-align: top;\n",
       "    }\n",
       "\n",
       "    .dataframe thead th {\n",
       "        text-align: right;\n",
       "    }\n",
       "</style>\n",
       "<table border=\"1\" class=\"dataframe\">\n",
       "  <thead>\n",
       "    <tr style=\"text-align: right;\">\n",
       "      <th></th>\n",
       "      <th>Δ2fx</th>\n",
       "    </tr>\n",
       "  </thead>\n",
       "  <tbody>\n",
       "    <tr>\n",
       "      <th>0</th>\n",
       "      <td>31752.0</td>\n",
       "    </tr>\n",
       "    <tr>\n",
       "      <th>1</th>\n",
       "      <td>120528.0</td>\n",
       "    </tr>\n",
       "    <tr>\n",
       "      <th>2</th>\n",
       "      <td>296784.0</td>\n",
       "    </tr>\n",
       "    <tr>\n",
       "      <th>3</th>\n",
       "      <td>589680.0</td>\n",
       "    </tr>\n",
       "    <tr>\n",
       "      <th>4</th>\n",
       "      <td>1028376.0</td>\n",
       "    </tr>\n",
       "    <tr>\n",
       "      <th>5</th>\n",
       "      <td>1642032.0</td>\n",
       "    </tr>\n",
       "    <tr>\n",
       "      <th>6</th>\n",
       "      <td>2459808.0</td>\n",
       "    </tr>\n",
       "  </tbody>\n",
       "</table>\n",
       "</div>"
      ],
      "text/plain": [
       "        Δ2fx\n",
       "0    31752.0\n",
       "1   120528.0\n",
       "2   296784.0\n",
       "3   589680.0\n",
       "4  1028376.0\n",
       "5  1642032.0\n",
       "6  2459808.0"
      ]
     },
     "execution_count": 4,
     "metadata": {},
     "output_type": "execute_result"
    }
   ],
   "source": [
    "# buat kolom Δ2fx didapat dari selisih kolom Δfx\n",
    "df2 = (df1['Δfx'].shift(-1) - df1['Δfx'] ) \n",
    "\n",
    "# hapus NaN di baris akhir\n",
    "df2 = df2.dropna() \n",
    "\n",
    "# beri nama kolom dataframe jadi Δ2fx\n",
    "df2 = df2.to_frame('Δ2fx')\n",
    "\n",
    "# cetak dataframe df2\n",
    "df2"
   ]
  },
  {
   "cell_type": "code",
   "execution_count": 5,
   "id": "40c994cf",
   "metadata": {},
   "outputs": [
    {
     "data": {
      "text/html": [
       "<div>\n",
       "<style scoped>\n",
       "    .dataframe tbody tr th:only-of-type {\n",
       "        vertical-align: middle;\n",
       "    }\n",
       "\n",
       "    .dataframe tbody tr th {\n",
       "        vertical-align: top;\n",
       "    }\n",
       "\n",
       "    .dataframe thead th {\n",
       "        text-align: right;\n",
       "    }\n",
       "</style>\n",
       "<table border=\"1\" class=\"dataframe\">\n",
       "  <thead>\n",
       "    <tr style=\"text-align: right;\">\n",
       "      <th></th>\n",
       "      <th>Δ3fx</th>\n",
       "    </tr>\n",
       "  </thead>\n",
       "  <tbody>\n",
       "    <tr>\n",
       "      <th>0</th>\n",
       "      <td>88776.0</td>\n",
       "    </tr>\n",
       "    <tr>\n",
       "      <th>1</th>\n",
       "      <td>176256.0</td>\n",
       "    </tr>\n",
       "    <tr>\n",
       "      <th>2</th>\n",
       "      <td>292896.0</td>\n",
       "    </tr>\n",
       "    <tr>\n",
       "      <th>3</th>\n",
       "      <td>438696.0</td>\n",
       "    </tr>\n",
       "    <tr>\n",
       "      <th>4</th>\n",
       "      <td>613656.0</td>\n",
       "    </tr>\n",
       "    <tr>\n",
       "      <th>5</th>\n",
       "      <td>817776.0</td>\n",
       "    </tr>\n",
       "  </tbody>\n",
       "</table>\n",
       "</div>"
      ],
      "text/plain": [
       "       Δ3fx\n",
       "0   88776.0\n",
       "1  176256.0\n",
       "2  292896.0\n",
       "3  438696.0\n",
       "4  613656.0\n",
       "5  817776.0"
      ]
     },
     "execution_count": 5,
     "metadata": {},
     "output_type": "execute_result"
    }
   ],
   "source": [
    "# buat kolom Δ3fx didapat dari selisih kolom Δ2fx\n",
    "df3 = (df2['Δ2fx'].shift(-1) - df2['Δ2fx'] ) \n",
    "\n",
    "# hapus NaN di baris akhir\n",
    "df3 = df3.dropna() \n",
    "\n",
    "# beri nama kolom dataframe jadi Δ3fx\n",
    "df3 = df3.to_frame('Δ3fx')\n",
    "\n",
    "# cetak dataframe df3\n",
    "df3"
   ]
  },
  {
   "cell_type": "code",
   "execution_count": 6,
   "id": "70604e35",
   "metadata": {},
   "outputs": [
    {
     "data": {
      "text/html": [
       "<div>\n",
       "<style scoped>\n",
       "    .dataframe tbody tr th:only-of-type {\n",
       "        vertical-align: middle;\n",
       "    }\n",
       "\n",
       "    .dataframe tbody tr th {\n",
       "        vertical-align: top;\n",
       "    }\n",
       "\n",
       "    .dataframe thead th {\n",
       "        text-align: right;\n",
       "    }\n",
       "</style>\n",
       "<table border=\"1\" class=\"dataframe\">\n",
       "  <thead>\n",
       "    <tr style=\"text-align: right;\">\n",
       "      <th></th>\n",
       "      <th>Δ4fx</th>\n",
       "    </tr>\n",
       "  </thead>\n",
       "  <tbody>\n",
       "    <tr>\n",
       "      <th>0</th>\n",
       "      <td>87480.0</td>\n",
       "    </tr>\n",
       "    <tr>\n",
       "      <th>1</th>\n",
       "      <td>116640.0</td>\n",
       "    </tr>\n",
       "    <tr>\n",
       "      <th>2</th>\n",
       "      <td>145800.0</td>\n",
       "    </tr>\n",
       "    <tr>\n",
       "      <th>3</th>\n",
       "      <td>174960.0</td>\n",
       "    </tr>\n",
       "    <tr>\n",
       "      <th>4</th>\n",
       "      <td>204120.0</td>\n",
       "    </tr>\n",
       "  </tbody>\n",
       "</table>\n",
       "</div>"
      ],
      "text/plain": [
       "       Δ4fx\n",
       "0   87480.0\n",
       "1  116640.0\n",
       "2  145800.0\n",
       "3  174960.0\n",
       "4  204120.0"
      ]
     },
     "execution_count": 6,
     "metadata": {},
     "output_type": "execute_result"
    }
   ],
   "source": [
    "# buat kolom Δ4fx didapat dari selisih kolom Δ3fx\n",
    "df4 = (df3['Δ3fx'].shift(-1) - df3['Δ3fx'] ) \n",
    "\n",
    "# hapus NaN di baris akhir\n",
    "df4 = df4.dropna() \n",
    "\n",
    "# beri nama kolom dataframe jadi Δ3fx\n",
    "df4 = df4.to_frame('Δ4fx')\n",
    "\n",
    "# cetak dataframe df4\n",
    "df4"
   ]
  },
  {
   "cell_type": "code",
   "execution_count": 7,
   "id": "e3962125",
   "metadata": {
    "scrolled": true
   },
   "outputs": [
    {
     "data": {
      "text/plain": [
       "4"
      ]
     },
     "execution_count": 7,
     "metadata": {},
     "output_type": "execute_result"
    }
   ],
   "source": [
    "# buat fungsi untuk mendapatkan indeks dari x0\n",
    "def get_index(x0,df):\n",
    "    return df[df['x'] == x0].index[0]\n",
    "\n",
    "# menggunakan x0 = 15\n",
    "x0 = 15\n",
    "\n",
    "# nilai y dicari dari saat x = xs \n",
    "xs = 16\n",
    "\n",
    "# cari indeks x0\n",
    "index_x0 = get_index(x0,df)\n",
    "\n",
    "# cetak indeks (indeks dimulai dari nol)\n",
    "index_x0"
   ]
  },
  {
   "cell_type": "code",
   "execution_count": 8,
   "id": "e89e94c9",
   "metadata": {},
   "outputs": [
    {
     "data": {
      "text/plain": [
       "3.0"
      ]
     },
     "execution_count": 8,
     "metadata": {},
     "output_type": "execute_result"
    }
   ],
   "source": [
    "# h merupakan selisih nilai x\n",
    "h = df.iloc[1]['x'] - df.iloc[0]['x']\n",
    "\n",
    "# cetak nilai h\n",
    "h"
   ]
  },
  {
   "cell_type": "code",
   "execution_count": 9,
   "id": "f64a769a",
   "metadata": {},
   "outputs": [
    {
     "data": {
      "text/plain": [
       "0.3333333333333333"
      ]
     },
     "execution_count": 9,
     "metadata": {},
     "output_type": "execute_result"
    }
   ],
   "source": [
    "# s adalah selisih x dari nilai dicari dan x patokan lalu dibagi h\n",
    "s = (xs - x0) / h\n",
    "s"
   ]
  },
  {
   "cell_type": "code",
   "execution_count": 10,
   "id": "ccb3a146",
   "metadata": {},
   "outputs": [
    {
     "data": {
      "text/plain": [
       "896224.0"
      ]
     },
     "execution_count": 10,
     "metadata": {},
     "output_type": "execute_result"
    }
   ],
   "source": [
    "# buat fungsi untuk mencari nilai yang dicari dengan newton gregory forward\n",
    "def ngf_4(index,s,df,df1,df2,df3,df4):\n",
    "    return  (df.iloc[index]['y']) + \\\n",
    "            (s * df1.iloc[index]['Δfx']) + \\\n",
    "            (s * (s-1) * df2.iloc[index]['Δ2fx'] / math.factorial(2)) + \\\n",
    "            (s * (s-1) * (s-2) * df3.iloc[index]['Δ3fx'] / math.factorial(3)) + \\\n",
    "            (s * (s-1) * (s-2) * (s-3) * df4.iloc[index]['Δ4fx'] / math.factorial(4))\n",
    "\n",
    "# mencari hasil newton gregory forward untuk mencari nilai dicari dengan fungsi ngf_4\n",
    "hasil_ngf = ngf_4(index_x0,s,df,df1,df2,df3,df4)\n",
    "\n",
    "# mencetak hasil newton gregory forward\n",
    "hasil_ngf"
   ]
  },
  {
   "cell_type": "code",
   "execution_count": 11,
   "id": "2019ade4",
   "metadata": {
    "scrolled": true
   },
   "outputs": [
    {
     "name": "stdout",
     "output_type": "stream",
     "text": [
      "Hasil Newton Gregory Forward untuk xs = 16 menggunakan x0 = 15 adalah 896224.0\n"
     ]
    }
   ],
   "source": [
    "print(f'Hasil Newton Gregory Forward untuk xs = {xs} menggunakan x0 = {x0} adalah {hasil_ngf}')"
   ]
  },
  {
   "cell_type": "code",
   "execution_count": 12,
   "id": "31f5ead8",
   "metadata": {},
   "outputs": [
    {
     "data": {
      "text/plain": [
       "0.1"
      ]
     },
     "execution_count": 12,
     "metadata": {},
     "output_type": "execute_result"
    }
   ],
   "source": [
    "# fungsi mencari error true\n",
    "def error_true(y_true,y_aprox):\n",
    "    return round(abs( (y_true - y_aprox) / y_true ) * 100,2)\n",
    "\n",
    "# nilai y sebenarnya\n",
    "y_true = 897104\n",
    "\n",
    "# mencari error true dengan fungsi error_true\n",
    "et = error_true(y_true,hasil_ngf)\n",
    "\n",
    "# cetak error true\n",
    "et"
   ]
  },
  {
   "cell_type": "code",
   "execution_count": 13,
   "id": "b377d92e",
   "metadata": {
    "scrolled": true
   },
   "outputs": [
    {
     "name": "stdout",
     "output_type": "stream",
     "text": [
      "0.09809342060675239\n"
     ]
    }
   ],
   "source": [
    "# cetak error sebelum dibulatkan dua angka belakang koma\n",
    "print(abs( (y_true - hasil_ngf) / y_true ) * 100)"
   ]
  }
 ],
 "metadata": {
  "kernelspec": {
   "display_name": "Python 3 (ipykernel)",
   "language": "python",
   "name": "python3"
  },
  "language_info": {
   "codemirror_mode": {
    "name": "ipython",
    "version": 3
   },
   "file_extension": ".py",
   "mimetype": "text/x-python",
   "name": "python",
   "nbconvert_exporter": "python",
   "pygments_lexer": "ipython3",
   "version": "3.9.13"
  }
 },
 "nbformat": 4,
 "nbformat_minor": 5
}
